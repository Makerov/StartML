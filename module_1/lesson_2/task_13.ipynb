{
 "cells": [
  {
   "cell_type": "markdown",
   "metadata": {},
   "source": [
    "# \\> Строки\n",
    "В этом задании необходимо написать функцию `check_string`, которая сначала проверяет строку на наличие лишних символов пробела слева и справа. Если есть лишние пробелы, то тогда мы считаем строку неверной. Затем проверяет, что только первое слово начинается с большой буквы, а остальные с маленькой, и в конце проводит проверку, что последний символ является точкой.\n",
    "```python\n",
    "def check_string(string):\n",
    "    <...>\n",
    "    return result\n",
    "\n",
    "check_string('В этом году будет особенно теплое море.')\n",
    "True\n",
    "check_string('В этом году будет особенно теплое Mоре.')\n",
    "False\n",
    "check_string('В этом году будет особенно теплое море')\n",
    "False\n",
    "check_string(' В этом году будет особенно теплое море')\n",
    "False\n",
    "```"
   ]
  },
  {
   "cell_type": "code",
   "execution_count": 18,
   "metadata": {},
   "outputs": [],
   "source": [
    "def check_string(string):\n",
    "    if string[0] != ' ' and string[-1] != ' ' and string[0].isupper() and string[1:].islower() and string[-1] == '.':\n",
    "        result = True\n",
    "    else:\n",
    "        result = False\n",
    "    return result"
   ]
  },
  {
   "cell_type": "code",
   "execution_count": 19,
   "metadata": {},
   "outputs": [
    {
     "data": {
      "text/plain": [
       "True"
      ]
     },
     "execution_count": 19,
     "metadata": {},
     "output_type": "execute_result"
    }
   ],
   "source": [
    "check_string('В этом году будет особенно теплое море.')"
   ]
  },
  {
   "cell_type": "code",
   "execution_count": 20,
   "metadata": {},
   "outputs": [
    {
     "data": {
      "text/plain": [
       "False"
      ]
     },
     "execution_count": 20,
     "metadata": {},
     "output_type": "execute_result"
    }
   ],
   "source": [
    "check_string('В этом году будет особенно теплое Mоре.')"
   ]
  },
  {
   "cell_type": "code",
   "execution_count": 21,
   "metadata": {},
   "outputs": [
    {
     "data": {
      "text/plain": [
       "False"
      ]
     },
     "execution_count": 21,
     "metadata": {},
     "output_type": "execute_result"
    }
   ],
   "source": [
    "check_string('В этом году будет особенно теплое море')"
   ]
  },
  {
   "cell_type": "code",
   "execution_count": 22,
   "metadata": {},
   "outputs": [
    {
     "data": {
      "text/plain": [
       "False"
      ]
     },
     "execution_count": 22,
     "metadata": {},
     "output_type": "execute_result"
    }
   ],
   "source": [
    "check_string(' В этом году будет особенно теплое море')"
   ]
  }
 ],
 "metadata": {
  "kernelspec": {
   "display_name": "Python 3",
   "language": "python",
   "name": "python3"
  },
  "language_info": {
   "codemirror_mode": {
    "name": "ipython",
    "version": 3
   },
   "file_extension": ".py",
   "mimetype": "text/x-python",
   "name": "python",
   "nbconvert_exporter": "python",
   "pygments_lexer": "ipython3",
   "version": "3.9.9"
  }
 },
 "nbformat": 4,
 "nbformat_minor": 2
}
