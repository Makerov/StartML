{
 "cells": [
  {
   "cell_type": "markdown",
   "metadata": {},
   "source": [
    "# \\> Функции\n",
    "Напишите функцию `zip_`, которая принимает на вход два списка и «сшивает» их следующим образом, например:\n",
    "\n",
    "Списки `[1, 5, 3, 8, 35]` и `[2, 7, 9]` превратятся в `[(1, 2), (5, 7), (3, 9)]`, т. е. сначала берутся первые элементы первого и второго списков и собираются в кортеж, затем вторые элементы первого и второго списков и собираются в кортеж и т. д., пока не дошли до конца самого короткого списка. \n",
    "\n",
    "На выходе функция должна возвращать (`return`) «сшитый» список. Вам понадобится использовать цикл.\n",
    "\n",
    "**NB!** Ниже на странице можно найти материал со звездочкой."
   ]
  },
  {
   "cell_type": "code",
   "execution_count": 1,
   "metadata": {},
   "outputs": [
    {
     "data": {
      "text/plain": [
       "[(1, 2), (5, 7), (3, 9)]"
      ]
     },
     "execution_count": 1,
     "metadata": {},
     "output_type": "execute_result"
    }
   ],
   "source": [
    "def zip_(list_1, list_2):\n",
    "    new_list = []\n",
    "\n",
    "    if len(list_1) > len(list_2):\n",
    "        for i in range(len(list_2)):\n",
    "            new_list.append((list_1[i], list_2[i]))\n",
    "    else:\n",
    "        for j in range(len(list_1)):\n",
    "            new_list.append((list_1, list_2))\n",
    "\n",
    "    return new_list\n",
    "\n",
    "# test\n",
    "list1 = [1, 5, 3, 8, 35]\n",
    "list2 = [2, 7, 9]\n",
    "\n",
    "zip_(list_1=list1, list_2=list2)"
   ]
  },
  {
   "cell_type": "markdown",
   "metadata": {},
   "source": [
    "## \\* Материал со звездочкой\n",
    "\n",
    "В Python есть функция, которая решает нашу задачу — она называется `zip`. Ее можно использовать как `for pair in zip(list_1, list_2)`.\n",
    "\n",
    "Вы можете использовать `zip` внутри своего решения, но мы советуем написать ее функционал самостоятельно через цикл, чтобы «прочуять»  работу данной функции.\n",
    "\n",
    "Более того, `zip` возвращает не совсем список, а объект, по которому можно пробежаться циклом `for` (такие объекты в Python называются итераторами). Чтобы получить привычный объект `list`, надо явно попросить Python достать элементы из итератора через код `list(zip(list_1, list_2))`."
   ]
  },
  {
   "cell_type": "code",
   "execution_count": 3,
   "metadata": {},
   "outputs": [
    {
     "data": {
      "text/plain": [
       "[(1, 2), (5, 7), (3, 9)]"
      ]
     },
     "execution_count": 3,
     "metadata": {},
     "output_type": "execute_result"
    }
   ],
   "source": [
    "new_list_2 = []\n",
    "for pair in zip(list1, list2):\n",
    "    new_list_2.append(pair)\n",
    "new_list_2"
   ]
  }
 ],
 "metadata": {
  "kernelspec": {
   "display_name": "Python 3",
   "language": "python",
   "name": "python3"
  },
  "language_info": {
   "codemirror_mode": {
    "name": "ipython",
    "version": 3
   },
   "file_extension": ".py",
   "mimetype": "text/x-python",
   "name": "python",
   "nbconvert_exporter": "python",
   "pygments_lexer": "ipython3",
   "version": "3.9.9"
  }
 },
 "nbformat": 4,
 "nbformat_minor": 2
}
