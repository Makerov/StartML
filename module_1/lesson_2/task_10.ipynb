{
 "cells": [
  {
   "cell_type": "markdown",
   "metadata": {},
   "source": [
    "# \\> Срезы\n",
    "В этом задании Вам понадобится написать функцию `find_substr`,  которая принимает на вход два аргумента: подстроку (любой длины) и строку, в которой нужно ее искать, и возвращает кортеж, представляющий собой пару `[start, stop)` первой позиции, где найдено слово.\n",
    "\n",
    "**NB!** Обратите внимание на скобки\n",
    "\n",
    "Например:\n",
    "```python\n",
    "find_substr(\"мы\", \"Летом мы хотим отдыхать на море\")\n",
    "Output:\n",
    "(6, 8)\n",
    "```\n",
    "```python\n",
    "find_substr(\"ма\", \"маленькая машина\")\n",
    "Output:\n",
    "(0, 2)\n",
    "```"
   ]
  },
  {
   "cell_type": "code",
   "execution_count": 5,
   "metadata": {},
   "outputs": [],
   "source": [
    "def find_substr(substr, string):\n",
    "    start = string.find(substr)\n",
    "    stop = start + len(substr)\n",
    "    position = (start, stop)\n",
    "    return position"
   ]
  },
  {
   "cell_type": "code",
   "execution_count": 6,
   "metadata": {},
   "outputs": [
    {
     "data": {
      "text/plain": [
       "(6, 8)"
      ]
     },
     "execution_count": 6,
     "metadata": {},
     "output_type": "execute_result"
    }
   ],
   "source": [
    "find_substr(\"мы\", \"Летом мы хотим отдыхать на море\")"
   ]
  },
  {
   "cell_type": "code",
   "execution_count": 7,
   "metadata": {},
   "outputs": [
    {
     "data": {
      "text/plain": [
       "(0, 2)"
      ]
     },
     "execution_count": 7,
     "metadata": {},
     "output_type": "execute_result"
    }
   ],
   "source": [
    "find_substr(\"ма\", \"маленькая машина\")"
   ]
  }
 ],
 "metadata": {
  "kernelspec": {
   "display_name": "Python 3",
   "language": "python",
   "name": "python3"
  },
  "language_info": {
   "codemirror_mode": {
    "name": "ipython",
    "version": 3
   },
   "file_extension": ".py",
   "mimetype": "text/x-python",
   "name": "python",
   "nbconvert_exporter": "python",
   "pygments_lexer": "ipython3",
   "version": "3.9.9"
  }
 },
 "nbformat": 4,
 "nbformat_minor": 2
}
