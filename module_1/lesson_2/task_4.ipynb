{
 "cells": [
  {
   "cell_type": "markdown",
   "metadata": {},
   "source": [
    "# \\> Функции\n",
    "Добавим аргументы по умолчанию.\n",
    "\n",
    "Вспомните пример с подсчетом банковского процента из урока 1. Напишите функцию `final_balance`, которая на вход принимает начальную сумму `init_sum`, процентную ставку `interest_rate`, количество лет `years` и округление `round_num`. Функция должна возвращать сумму по истечении этого срока.\n",
    "\n",
    "Аргумент функции `round_num` должен задавать, сколько значащих чисел после запятой оставлять. Так, при `round_num = 2` сумма будет выводиться с точностью до копеек, при `round_num = 0` - с точностью до рублей. При этом `round_num` может быть отрицательным! В таком случае округление будет грубее: `round_num = -1` будет округлять до десятков рублей, `round_num = -2` до сотен и т. д.\n",
    "\n",
    "Поставьте значение по умолчанию `round_num`, равное 2. Это соответствует округлению до копеек.\n",
    "\n",
    "Вам может пригодиться встроенная в Python функция `round()` и примеры ее использования:\n",
    "```python\n",
    "round(123.45, 2)\n",
    "123.45\n",
    "\n",
    "round(123.45, 1)\n",
    "123.5\n",
    "\n",
    "round(123.45, 0)\n",
    "123.0\n",
    "\n",
    "round(123.45, -1)\n",
    "120.0\n",
    "\n",
    "round(123.45, -2)\n",
    "100.0\n",
    "```\n",
    "Напишите функцию, вызовите ее последовательно для следующих параметров и верните результат из функции.\n",
    "|init_sum|interest_rate|years|\n",
    "|-|-|-|\n",
    "|1000|5|10|\n",
    "|700|7|10"
   ]
  },
  {
   "cell_type": "code",
   "execution_count": 7,
   "metadata": {},
   "outputs": [],
   "source": [
    "def final_balance(init_sum, interest_rate, years, round_num=2):\n",
    "    end_sum = round(init_sum * ((100 + interest_rate) / 100) ** years, round_num)\n",
    "    return end_sum"
   ]
  },
  {
   "cell_type": "code",
   "execution_count": 8,
   "metadata": {},
   "outputs": [
    {
     "data": {
      "text/plain": [
       "1628.89"
      ]
     },
     "execution_count": 8,
     "metadata": {},
     "output_type": "execute_result"
    }
   ],
   "source": [
    "final_balance(init_sum=1000, interest_rate=5, years=10)"
   ]
  },
  {
   "cell_type": "code",
   "execution_count": 9,
   "metadata": {},
   "outputs": [
    {
     "data": {
      "text/plain": [
       "1377.01"
      ]
     },
     "execution_count": 9,
     "metadata": {},
     "output_type": "execute_result"
    }
   ],
   "source": [
    "final_balance(init_sum=700, interest_rate=7, years=10)"
   ]
  }
 ],
 "metadata": {
  "kernelspec": {
   "display_name": "Python 3",
   "language": "python",
   "name": "python3"
  },
  "language_info": {
   "codemirror_mode": {
    "name": "ipython",
    "version": 3
   },
   "file_extension": ".py",
   "mimetype": "text/x-python",
   "name": "python",
   "nbconvert_exporter": "python",
   "pygments_lexer": "ipython3",
   "version": "3.9.9"
  }
 },
 "nbformat": 4,
 "nbformat_minor": 2
}
