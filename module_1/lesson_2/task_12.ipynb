{
 "cells": [
  {
   "cell_type": "markdown",
   "metadata": {},
   "source": [
    "# \\> Строки\n",
    "В этом задании потребуется написать функцию `process_string`, которая приводит строку[1:] к нижнему регистру и заменяет все слова `'intern'` на `'junior'`.\n",
    "```python\n",
    "def process_string(string):\n",
    "    <...>\n",
    "    return result\n",
    "\n",
    "process_string('IIntern reads a lot of books')\n",
    "\n",
    "Output:\n",
    "'junior reads a lot of books'\n",
    "```"
   ]
  },
  {
   "cell_type": "code",
   "execution_count": 1,
   "metadata": {},
   "outputs": [],
   "source": [
    "def process_string(string):\n",
    "    result = string[1:].lower().replace('intern', 'junior')\n",
    "    return result"
   ]
  },
  {
   "cell_type": "code",
   "execution_count": 2,
   "metadata": {},
   "outputs": [
    {
     "data": {
      "text/plain": [
       "'junior reads a lot of books'"
      ]
     },
     "execution_count": 2,
     "metadata": {},
     "output_type": "execute_result"
    }
   ],
   "source": [
    "process_string('IIntern reads a lot of books')"
   ]
  }
 ],
 "metadata": {
  "kernelspec": {
   "display_name": "Python 3",
   "language": "python",
   "name": "python3"
  },
  "language_info": {
   "codemirror_mode": {
    "name": "ipython",
    "version": 3
   },
   "file_extension": ".py",
   "mimetype": "text/x-python",
   "name": "python",
   "nbconvert_exporter": "python",
   "pygments_lexer": "ipython3",
   "version": "3.9.9"
  }
 },
 "nbformat": 4,
 "nbformat_minor": 2
}
