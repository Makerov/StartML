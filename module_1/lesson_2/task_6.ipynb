{
 "cells": [
  {
   "cell_type": "markdown",
   "metadata": {},
   "source": [
    "# \\> Уменьшаем дублирование кода\n",
    "Вы заметили, что нам приходилось вставлять один и тот же код в несколько мест в прошлом задании?\n",
    "\n",
    "Давайте избавимся от этого. Вынесите код печати массива в функцию `print_array`, затем поменяйте вашу исправленную реализацию `math_task` так, чтобы она использовала функцию `print_array` для печати массива. Ваш код в `math_task` станет меньше и не будет пестрить кучей строк с `print`.\n",
    "\n",
    "Отправьте в LMS две функции: `print_array` и `math_task`.\n",
    "\n",
    "Вызовите функцию `math_task` с данными `test_data`."
   ]
  },
  {
   "cell_type": "code",
   "execution_count": 3,
   "metadata": {},
   "outputs": [
    {
     "name": "stdout",
     "output_type": "stream",
     "text": [
      "###\n",
      "[1, 8, 27, 64]\n",
      "###\n",
      "###\n",
      "[1, 1, 6, 1]\n",
      "###\n",
      "###\n",
      "[2, 3, 9, 5]\n",
      "###\n"
     ]
    },
    {
     "data": {
      "text/plain": [
       "[2, 3, 9, 5]"
      ]
     },
     "execution_count": 3,
     "metadata": {},
     "output_type": "execute_result"
    }
   ],
   "source": [
    "def print_array(array):\n",
    "    print(\"###\")\n",
    "    print(array)\n",
    "    print(\"###\")\n",
    "\n",
    "\n",
    "def math_task(data):\n",
    "    answer = []\n",
    "    # возводим в третью степень\n",
    "    for elem in data:\n",
    "        answer += [elem ** 3]\n",
    "    print_array(answer)\n",
    "    # берем остаток от деления на 7\n",
    "    for i in range(len(answer)):\n",
    "        answer[i] = answer[i] % 7\n",
    "    print_array(answer)\n",
    "    # прибавляем к остатку изначальный массив\n",
    "    for i in range(len(answer)):\n",
    "        answer[i] = answer[i] + data[i]\n",
    "    print_array(answer)\n",
    "    # возвращаем результат\n",
    "    return answer\n",
    "\n",
    "test_data = [1,2,3,4]\n",
    "math_task(test_data)"
   ]
  }
 ],
 "metadata": {
  "kernelspec": {
   "display_name": "Python 3",
   "language": "python",
   "name": "python3"
  },
  "language_info": {
   "codemirror_mode": {
    "name": "ipython",
    "version": 3
   },
   "file_extension": ".py",
   "mimetype": "text/x-python",
   "name": "python",
   "nbconvert_exporter": "python",
   "pygments_lexer": "ipython3",
   "version": "3.9.9"
  }
 },
 "nbformat": 4,
 "nbformat_minor": 2
}
