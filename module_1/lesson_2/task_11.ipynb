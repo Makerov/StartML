{
 "cells": [
  {
   "cell_type": "markdown",
   "metadata": {},
   "source": [
    "# \\> Срезы\n",
    "В этом задании вам потребуется написать функцию `fifth_element`, которая возвращает в виде списка, каждый пятый элемент исходного списка в обратном порядке, начиная с пятого с конца.\n",
    "\n",
    "Пример, как должна выглядить функция для сдачи задания\n",
    "```python\n",
    "def fifth_element(some_list: list) -> list:\n",
    "    ...\n",
    "```\n",
    "Конструкция `-> list` в этом примере определяет тип возвращаемого значения. Это означает, что на выходе функции мы ожидаем получить список. Это называется аннотацией типов в Python, подробнее можно почитать об этом [здесь](https://pythonist.ru/annotaczii-tipov-python/).\n",
    "\n",
    "Не в качестве ответа на задачу, а для самопроверки, попробуйте использовать написанную вами функцию `fifth_element` для расшифровки следующего кода: \n",
    "\n",
    "['e',6,8,'A','>','^','S','$','R','C',6,'+','#',9,'/',1,'T','!','%','K',7,'-','O','*','<',2,'h',4,'g']"
   ]
  },
  {
   "cell_type": "code",
   "execution_count": 17,
   "metadata": {},
   "outputs": [],
   "source": [
    "def fifth_element(some_list: list) -> list:\n",
    "    out_list = some_list[-5::-5]\n",
    "    return out_list"
   ]
  },
  {
   "cell_type": "code",
   "execution_count": 18,
   "metadata": {},
   "outputs": [
    {
     "data": {
      "text/plain": [
       "['<', 'K', '/', 'C', '>']"
      ]
     },
     "execution_count": 18,
     "metadata": {},
     "output_type": "execute_result"
    }
   ],
   "source": [
    "fifth_element(['e',6,8,'A','>','^','S','$','R','C',6,'+','#',9,'/',1,'T','!','%','K',7,'-','O','*','<',2,'h',4,'g'])"
   ]
  }
 ],
 "metadata": {
  "kernelspec": {
   "display_name": "Python 3",
   "language": "python",
   "name": "python3"
  },
  "language_info": {
   "codemirror_mode": {
    "name": "ipython",
    "version": 3
   },
   "file_extension": ".py",
   "mimetype": "text/x-python",
   "name": "python",
   "nbconvert_exporter": "python",
   "pygments_lexer": "ipython3",
   "version": "3.9.9"
  }
 },
 "nbformat": 4,
 "nbformat_minor": 2
}
