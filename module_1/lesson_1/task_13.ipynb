{
 "cells": [
  {
   "cell_type": "markdown",
   "metadata": {},
   "source": [
    "# \\> Циклы: основы\n",
    "\n",
    "В этом задании мы продолжим работать со словарем `tasks`, в котором содержатся задачи разного приоритета, и напишем свой первый цикл!\n",
    "\n",
    "Проитерируйтесь по ключам словаря и добавьте его значения (списки задач) в список `values`.\n",
    "\n",
    "**NB!** Переменная `tasks` уже загружена в ЛМС, создавать ее не нужно."
   ]
  },
  {
   "cell_type": "code",
   "execution_count": 3,
   "metadata": {},
   "outputs": [
    {
     "data": {
      "text/plain": [
       "[['Покормить кота'],\n",
       " ['Полить цветы', 'Забрать посылку'],\n",
       " ['Почитать книгу по программированию'],\n",
       " ['Ответить на письмо двоюродной тети']]"
      ]
     },
     "execution_count": 3,
     "metadata": {},
     "output_type": "execute_result"
    }
   ],
   "source": [
    "tasks = {\n",
    "    0: ['Покормить кота'],\n",
    "    1: ['Полить цветы', 'Забрать посылку'],\n",
    "    2: ['Почитать книгу по программированию'],\n",
    "    3: ['Ответить на письмо двоюродной тети']\n",
    "}\n",
    "\n",
    "values = []\n",
    "for key in tasks.keys():\n",
    "    values.append(tasks[key])\n",
    "\n",
    "values"
   ]
  }
 ],
 "metadata": {
  "kernelspec": {
   "display_name": "Python 3",
   "language": "python",
   "name": "python3"
  },
  "language_info": {
   "codemirror_mode": {
    "name": "ipython",
    "version": 3
   },
   "file_extension": ".py",
   "mimetype": "text/x-python",
   "name": "python",
   "nbconvert_exporter": "python",
   "pygments_lexer": "ipython3",
   "version": "3.9.9"
  }
 },
 "nbformat": 4,
 "nbformat_minor": 2
}
