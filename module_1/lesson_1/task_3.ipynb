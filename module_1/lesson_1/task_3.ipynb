{
 "cells": [
  {
   "cell_type": "markdown",
   "metadata": {},
   "source": [
    "Создайте три переменных `name`, `age` и `is_student` и впишите в них любые имя, возраст и True/False соответственно.\n",
    "\n",
    "Затем распечатайте эти переменные, передав их тремя аргументами в функцию `print`, либо вызвав `print` три раза.\n",
    "\n",
    "Создайте комментарий в любом месте программы и напишите туда дату решения задачи. Это ни на что не повлияет — просто попрактикуемся в написании комментариев."
   ]
  },
  {
   "cell_type": "code",
   "execution_count": 1,
   "metadata": {},
   "outputs": [
    {
     "name": "stdout",
     "output_type": "stream",
     "text": [
      "Mikhail 34 True\n"
     ]
    }
   ],
   "source": [
    "# resoled 22.05.2025\n",
    "name = 'Mikhail'\n",
    "age = 34\n",
    "is_student = True\n",
    "print(name, age, is_student)"
   ]
  }
 ],
 "metadata": {
  "kernelspec": {
   "display_name": "Python 3",
   "language": "python",
   "name": "python3"
  },
  "language_info": {
   "codemirror_mode": {
    "name": "ipython",
    "version": 3
   },
   "file_extension": ".py",
   "mimetype": "text/x-python",
   "name": "python",
   "nbconvert_exporter": "python",
   "pygments_lexer": "ipython3",
   "version": "3.9.9"
  }
 },
 "nbformat": 4,
 "nbformat_minor": 2
}
