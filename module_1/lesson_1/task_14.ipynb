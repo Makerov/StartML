{
 "cells": [
  {
   "cell_type": "markdown",
   "metadata": {},
   "source": [
    "# \\> Циклы: основы\n",
    "\n",
    "Немного усложним задачу. Прежде мы итерировались по ключам словаря и сохраняли его значения —  списки задач. Теперь мы хотим сохранить не списки задач, а сами задачи. Для этого необходимо проитерироваться по всем объектам в значениях словаря и добавить задачи в список `doings`.\n",
    "\n",
    "**NB!** Переменная `tasks` уже загружена в ЛМС, создавать ее не нужно."
   ]
  },
  {
   "cell_type": "code",
   "execution_count": 2,
   "metadata": {},
   "outputs": [
    {
     "data": {
      "text/plain": [
       "['Покормить кота',\n",
       " 'Полить цветы',\n",
       " 'Забрать посылку',\n",
       " 'Почитать книгу по программированию',\n",
       " 'Ответить на письмо двоюродной тети']"
      ]
     },
     "execution_count": 2,
     "metadata": {},
     "output_type": "execute_result"
    }
   ],
   "source": [
    "tasks = {\n",
    "    0: ['Покормить кота'],\n",
    "    1: ['Полить цветы', 'Забрать посылку'],\n",
    "    2: ['Почитать книгу по программированию'],\n",
    "    3: ['Ответить на письмо двоюродной тети']\n",
    "}\n",
    "\n",
    "doings = []\n",
    "\n",
    "for value in tasks.values():\n",
    "    for task in value:\n",
    "        doings.append(task)\n",
    "\n",
    "doings"
   ]
  }
 ],
 "metadata": {
  "kernelspec": {
   "display_name": "Python 3",
   "language": "python",
   "name": "python3"
  },
  "language_info": {
   "codemirror_mode": {
    "name": "ipython",
    "version": 3
   },
   "file_extension": ".py",
   "mimetype": "text/x-python",
   "name": "python",
   "nbconvert_exporter": "python",
   "pygments_lexer": "ipython3",
   "version": "3.9.9"
  }
 },
 "nbformat": 4,
 "nbformat_minor": 2
}
