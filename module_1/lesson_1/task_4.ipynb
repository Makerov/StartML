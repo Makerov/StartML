{
 "cells": [
  {
   "cell_type": "markdown",
   "metadata": {},
   "source": [
    "# Арифметика: поход в магазин\n",
    "В следующих степах мы попробуем использовать переменные для простой арифметики.\n",
    "\n",
    "Представим, что у нас есть `total_money` рублей и мы идем в магазин покупать варенье про запас. Каждая банка варенья стоит `price` рублей (при этом price > 0). Наша задача — подсчитать, сколько банок мы сможем купить.\n",
    "\n",
    "**NB!** Переменные `total_money` и `price` уже заданы в ЛМС, их не нужно задавать самостоятельно. Ваша задача — подсчитать ответ на задачу, используя эти готовые переменные.\n",
    "\n",
    "Запишите результат в переменную `jar_count`.\n",
    "\n"
   ]
  },
  {
   "cell_type": "code",
   "execution_count": 4,
   "metadata": {},
   "outputs": [],
   "source": [
    "total_money = 100\n",
    "price = 50\n",
    "jar_count = total_money // price"
   ]
  },
  {
   "cell_type": "code",
   "execution_count": 5,
   "metadata": {},
   "outputs": [
    {
     "data": {
      "text/plain": [
       "2"
      ]
     },
     "execution_count": 5,
     "metadata": {},
     "output_type": "execute_result"
    }
   ],
   "source": [
    "jar_count"
   ]
  }
 ],
 "metadata": {
  "kernelspec": {
   "display_name": "Python 3",
   "language": "python",
   "name": "python3"
  },
  "language_info": {
   "codemirror_mode": {
    "name": "ipython",
    "version": 3
   },
   "file_extension": ".py",
   "mimetype": "text/x-python",
   "name": "python",
   "nbconvert_exporter": "python",
   "pygments_lexer": "ipython3",
   "version": "3.9.9"
  }
 },
 "nbformat": 4,
 "nbformat_minor": 2
}
