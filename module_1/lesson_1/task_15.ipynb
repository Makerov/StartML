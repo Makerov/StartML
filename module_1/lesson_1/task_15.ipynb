{
 "cells": [
  {
   "cell_type": "markdown",
   "metadata": {},
   "source": [
    "# \\> Все вместе: ищем кота в своих делах\n",
    "\n",
    "Это задание включает часть идей реализации из предыдущего, но теперь, помимо итерации по всем ключам и значениям, вам необходимо отобрать только те задачи, в которых есть подстрока \"кот\", и добавить их в список `answer`.\n",
    "\n",
    "NB! Переменная `tasks` уже загружена в ЛМС, создавать ее не нужно."
   ]
  },
  {
   "cell_type": "code",
   "execution_count": 2,
   "metadata": {},
   "outputs": [
    {
     "data": {
      "text/plain": [
       "['Покормить кота']"
      ]
     },
     "execution_count": 2,
     "metadata": {},
     "output_type": "execute_result"
    }
   ],
   "source": [
    "tasks = {\n",
    "    0: ['Покормить кота'],\n",
    "    1: ['Полить цветы', 'Забрать посылку'],\n",
    "    2: ['Почитать книгу по программированию'],\n",
    "    3: ['Ответить на письмо двоюродной тети']\n",
    "}\n",
    "\n",
    "answer = []\n",
    "\n",
    "for value in tasks.values():\n",
    "    for task in value:\n",
    "        if 'кот' in task:\n",
    "            answer.append(task)\n",
    "\n",
    "answer"
   ]
  }
 ],
 "metadata": {
  "kernelspec": {
   "display_name": "Python 3",
   "language": "python",
   "name": "python3"
  },
  "language_info": {
   "codemirror_mode": {
    "name": "ipython",
    "version": 3
   },
   "file_extension": ".py",
   "mimetype": "text/x-python",
   "name": "python",
   "nbconvert_exporter": "python",
   "pygments_lexer": "ipython3",
   "version": "3.9.9"
  }
 },
 "nbformat": 4,
 "nbformat_minor": 2
}
