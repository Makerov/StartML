{
 "cells": [
  {
   "cell_type": "markdown",
   "metadata": {},
   "source": [
    "# \\> Условные переходы: основы\n",
    "Отлично! Теперь у нас есть словарь `tasks`, в нем содержатся задачи разного приоритета.\n",
    "\n",
    "Сейчас мы хотим выполнить простую проверку: если есть задачи нулевого приоритета, программа должна выводить строку `\"есть срочные дела\"`, иначе —  `\"можно отдохнуть\"`.\n",
    "\n",
    "**NB!** Ключи в словаре `tasks` имеют целочисленный тип.\n",
    "\n",
    "**NB!** Переменная `tasks` уже загружена в ЛМС, создавать ее не нужно."
   ]
  },
  {
   "cell_type": "code",
   "execution_count": 1,
   "metadata": {},
   "outputs": [
    {
     "name": "stdout",
     "output_type": "stream",
     "text": [
      "есть срочные дела\n"
     ]
    }
   ],
   "source": [
    "tasks = {\n",
    "    0: ['Покормить кота'],\n",
    "    1: ['Полить цветы', 'Забрать посылку'],\n",
    "    2: ['Почитать книгу по программированию'],\n",
    "    3: ['Ответить на письмо двоюродной тети']\n",
    "}\n",
    "\n",
    "if 0 in tasks.keys():\n",
    "    print('есть срочные дела')\n",
    "else:\n",
    "    print('можно отдохнуть')"
   ]
  }
 ],
 "metadata": {
  "kernelspec": {
   "display_name": "Python 3",
   "language": "python",
   "name": "python3"
  },
  "language_info": {
   "codemirror_mode": {
    "name": "ipython",
    "version": 3
   },
   "file_extension": ".py",
   "mimetype": "text/x-python",
   "name": "python",
   "nbconvert_exporter": "python",
   "pygments_lexer": "ipython3",
   "version": "3.9.9"
  }
 },
 "nbformat": 4,
 "nbformat_minor": 2
}
