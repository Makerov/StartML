{
 "cells": [
  {
   "cell_type": "markdown",
   "metadata": {},
   "source": [
    "# \\> Коллекции: объединение списков\n",
    "\n",
    "Все готово к тому, чтобы вести дела. У нас есть два списка `tasks_my` и `tasks_friend`.\n",
    "\n",
    "Теперь необходимо объединить эти списки в один (любым способом, сначала `tasks_my`, потом `tasks_friend`) и сохраните результат в `tasks_all`.\n",
    "\n",
    "**NB!** Переменные `tasks_my` и `tasks_friend` уже загружены в ЛМС, создавать их не нужно."
   ]
  },
  {
   "cell_type": "code",
   "execution_count": 1,
   "metadata": {},
   "outputs": [
    {
     "data": {
      "text/plain": [
       "['task1', 'task2', 'task3', 'task4', 'task5', 'task6']"
      ]
     },
     "execution_count": 1,
     "metadata": {},
     "output_type": "execute_result"
    }
   ],
   "source": [
    "tasks_my = ['task1', 'task2', 'task3']\n",
    "tasks_friend = ['task4', 'task5', 'task6']\n",
    "\n",
    "tasks_all = tasks_my + tasks_friend\n",
    "tasks_all"
   ]
  }
 ],
 "metadata": {
  "kernelspec": {
   "display_name": "Python 3",
   "language": "python",
   "name": "python3"
  },
  "language_info": {
   "codemirror_mode": {
    "name": "ipython",
    "version": 3
   },
   "file_extension": ".py",
   "mimetype": "text/x-python",
   "name": "python",
   "nbconvert_exporter": "python",
   "pygments_lexer": "ipython3",
   "version": "3.9.9"
  }
 },
 "nbformat": 4,
 "nbformat_minor": 2
}
