{
 "cells": [
  {
   "cell_type": "markdown",
   "metadata": {},
   "source": [
    "# \\> Магические методы: вектор (4/4)\n",
    "Последние штрихи для нашего вектора.\n",
    "\n",
    "Добавьте в класс возможности сравнивать два вектора между собой и считать `abs` (это длина вектора, в Евклидовой метрике).\n",
    "```python\n",
    "abs(Vector([-12, 5]))  # Должно быть 13\n",
    "\n",
    "Vector([1, 3, 5]) == Vector([1])  # False\n",
    "Vector([1, 3, 5]) == Vector([-1, 3, 5])  # False\n",
    "Vector([1, 3, 5]) == Vector([1, 3, 5])  # True\n",
    "```\n",
    "По итогу мы получим вектора, которые можно складывать, умножать, печатать, считать длину и сравнивать на равенство друг с другом."
   ]
  },
  {
   "cell_type": "code",
   "execution_count": 17,
   "metadata": {},
   "outputs": [],
   "source": [
    "class Vector:\n",
    "    def __init__(self, coords: list):\n",
    "        # список координат\n",
    "        self.coords = coords\n",
    "    \n",
    "    # проверка равенства длин векторов\n",
    "    def validate(self, other):\n",
    "        if len(self.coords) != len(other.coords):\n",
    "            raise ValueError(f'left and right lengths differ: {len(self.coords)} != {len(other.coords)}')\n",
    "\n",
    "    def __add__(self, other):\n",
    "        self.validate(other)\n",
    "        # сложение векторов\n",
    "        return Vector(list(map(lambda x, y: x + y, self.coords, other.coords)))\n",
    "    \n",
    "    def __mul__(self, other):\n",
    "        # являются ли оба объекта векторами\n",
    "        if isinstance(self, Vector) and isinstance(other, Vector):\n",
    "            self.validate(other)\n",
    "            return sum(list(map(lambda x, y: x * y, self.coords, other.coords)))\n",
    "        elif isinstance(self, Vector) and isinstance(other, int):\n",
    "            return Vector(list(map(lambda x: x * other, self.coords)))\n",
    "    \n",
    "    def __eq__(self, other):\n",
    "        return self.coords == other.coords\n",
    "    \n",
    "    def __abs__(self):\n",
    "        return sum(list(map(lambda x: x**2, self.coords))) ** 0.5\n",
    "\n",
    "    # добавит красивую печать\n",
    "    def __str__(self):\n",
    "        return f'{self.coords}'"
   ]
  },
  {
   "cell_type": "code",
   "execution_count": 18,
   "metadata": {},
   "outputs": [
    {
     "data": {
      "text/plain": [
       "False"
      ]
     },
     "execution_count": 18,
     "metadata": {},
     "output_type": "execute_result"
    }
   ],
   "source": [
    "Vector([1, 3, 5]) == Vector([1])"
   ]
  },
  {
   "cell_type": "code",
   "execution_count": 19,
   "metadata": {},
   "outputs": [
    {
     "data": {
      "text/plain": [
       "False"
      ]
     },
     "execution_count": 19,
     "metadata": {},
     "output_type": "execute_result"
    }
   ],
   "source": [
    "Vector([1, 3, 5]) == Vector([-1, 3, 5])"
   ]
  },
  {
   "cell_type": "code",
   "execution_count": 20,
   "metadata": {},
   "outputs": [
    {
     "data": {
      "text/plain": [
       "True"
      ]
     },
     "execution_count": 20,
     "metadata": {},
     "output_type": "execute_result"
    }
   ],
   "source": [
    "Vector([1, 3, 5]) == Vector([1, 3, 5])"
   ]
  },
  {
   "cell_type": "code",
   "execution_count": 21,
   "metadata": {},
   "outputs": [
    {
     "data": {
      "text/plain": [
       "13.0"
      ]
     },
     "execution_count": 21,
     "metadata": {},
     "output_type": "execute_result"
    }
   ],
   "source": [
    "abs(Vector([-12, 5]))"
   ]
  }
 ],
 "metadata": {
  "kernelspec": {
   "display_name": "jira_py39",
   "language": "python",
   "name": "jira_py39"
  },
  "language_info": {
   "codemirror_mode": {
    "name": "ipython",
    "version": 3
   },
   "file_extension": ".py",
   "mimetype": "text/x-python",
   "name": "python",
   "nbconvert_exporter": "python",
   "pygments_lexer": "ipython3",
   "version": "3.9.9"
  }
 },
 "nbformat": 4,
 "nbformat_minor": 2
}
