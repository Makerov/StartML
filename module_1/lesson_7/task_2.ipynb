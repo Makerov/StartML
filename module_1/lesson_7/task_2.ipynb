{
 "cells": [
  {
   "cell_type": "markdown",
   "metadata": {},
   "source": [
    "# \\> Усложняем треугольник\n",
    "Возьмите класс `Triangle` из предыдущего задания и добавьте метод `area()`, возвращающий площадь треугольника. Напомним, что при известных трех сторонах площадь треугольника можно подсчитать по формуле Герона: $S = \\sqrt{p(p-a)(p-b)(p-c)}$, где $p = \\frac{1}{2}(a + b + c)$ — полупериметр. Подумайте, как можно организовать код так, чтобы `p` считалась один раз.\n",
    "\n",
    "Затем поменяйте конструктор: он должен проверять, что выполнено неравенство треугольника - каждая сторона меньше  суммы двух других. Если это условие не выполнено, выбрасывайте `ValueError` с текстом `\"triangle inequality does not hold\"` (передайте эту строку в конструктор `ValueError`).\n",
    "\n",
    "Наконец, создайте два объекта данного класса с названиями `tr_1` и `tr_2` , в которых соблюдается неравенство треугольника. Также, сохраните в переменные `square_1` и `square_2` результаты вызовов методов `.area()` для объектов `tr_1` и `tr_2` соответственно.\n",
    "\n",
    "Может пригодиться:\n",
    "\n",
    "[Ключевое слово raise в Python](https://pythonru.com/osnovy/obrabotka-iskljuchenij-python-blok-try-except-blok-finally#:~:text=str%2C%20not%20int-,b.%20Raise%20с%20аргументом%20в%20Python,-Также%20можно%20указать)"
   ]
  },
  {
   "cell_type": "code",
   "execution_count": 1,
   "metadata": {},
   "outputs": [],
   "source": [
    "class Triangle:\n",
    "    n_dots = 3\n",
    "\n",
    "    def __init__(self, a, b, c):\n",
    "        self.a = a\n",
    "        self.b = b\n",
    "        self.c = c\n",
    "        if a >= b + c or b >= a + c or c >= b + a:\n",
    "            raise ValueError('triangle inequality does not hold')\n",
    "    \n",
    "    def area(self):\n",
    "        p = (self.a + self.b + self.c) * 0.5\n",
    "        S = (p * (p - self.a) * (p - self.b) * (p - self.c)) ** 0.5\n",
    "        return S"
   ]
  },
  {
   "cell_type": "code",
   "execution_count": 2,
   "metadata": {},
   "outputs": [],
   "source": [
    "tr_1 = Triangle(3, 4, 5)\n",
    "tr_2 = Triangle(4, 5, 6)"
   ]
  },
  {
   "cell_type": "code",
   "execution_count": 3,
   "metadata": {},
   "outputs": [],
   "source": [
    "square_1 = tr_1.area()\n",
    "square_2 = tr_2.area()"
   ]
  },
  {
   "cell_type": "code",
   "execution_count": 4,
   "metadata": {},
   "outputs": [
    {
     "name": "stdout",
     "output_type": "stream",
     "text": [
      "6.0\n",
      "9.921567416492215\n"
     ]
    }
   ],
   "source": [
    "print(square_1)\n",
    "print(square_2)"
   ]
  }
 ],
 "metadata": {
  "kernelspec": {
   "display_name": "jira_py39",
   "language": "python",
   "name": "jira_py39"
  },
  "language_info": {
   "codemirror_mode": {
    "name": "ipython",
    "version": 3
   },
   "file_extension": ".py",
   "mimetype": "text/x-python",
   "name": "python",
   "nbconvert_exporter": "python",
   "pygments_lexer": "ipython3",
   "version": "3.9.9"
  }
 },
 "nbformat": 4,
 "nbformat_minor": 2
}
