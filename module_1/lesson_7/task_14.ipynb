{
 "cells": [
  {
   "cell_type": "markdown",
   "metadata": {},
   "source": [
    "# \\>  Множественное наследование (3/3)\n",
    "Используя миксины из прошлого пункта, напишите класс `SecureTextHandler`, который будет наследоваться от классов `ParsesBody` и `ParsesCookies` , иметь метод `process()` и конструктор, принимающий один аргумент и сохраняющий его в нужное поле класса.\n",
    "\n",
    "Метод `process()` должен работать следующим образом:\n",
    "\n",
    "1. Если `is_authed()` дает `False`, то возвращать `None`.\n",
    "2. Иначе получать тело через `body()` и возвращать его длину.\n",
    "\n",
    "Добейтесь работоспособности на примере и реализацию класса `SecureTextHandler` отправьте в LMS. Классы `ParsesBody` и `ParsesHeaders`, `ParsesCookie` отправлять не нужно.\n",
    "```python\n",
    "# Примеры\n",
    "r = {'cookies': {'auth_key': '123'},\n",
    "     'body': 'hello'\n",
    "    }\n",
    "print(SecureTextHandler(r).process())\n",
    "# 5\n",
    "\n",
    "r = {'cookies': {},\n",
    "     'body': 'hello'\n",
    "    }\n",
    "print(SecureTextHandler(r).process())\n",
    "# None\n",
    "```\n",
    "Обратите внимание, что здесь мы комбинируем другие миксины, чтобы получить другую функциональность без дублирования логики."
   ]
  },
  {
   "cell_type": "code",
   "execution_count": 3,
   "metadata": {},
   "outputs": [],
   "source": [
    "class ParsesCookies:\n",
    "    def cookies(self):\n",
    "        return self.request.get('cookies')\n",
    "    \n",
    "    def is_authed(self):\n",
    "        return 'auth_key' in self.request['cookies'].keys()\n",
    "\n",
    "class ParsesBody:\n",
    "    def body(self):\n",
    "        return self.request.get('body')\n",
    "\n",
    "class SecureTextHandler(ParsesBody, ParsesCookies):\n",
    "    def __init__(self, request):\n",
    "        self.request = request\n",
    "    \n",
    "    def process(self):\n",
    "        if self.is_authed() == False:\n",
    "            return None\n",
    "        else:\n",
    "            try:\n",
    "                return len(self.body())\n",
    "            except:\n",
    "                return None"
   ]
  },
  {
   "cell_type": "code",
   "execution_count": 4,
   "metadata": {},
   "outputs": [
    {
     "name": "stdout",
     "output_type": "stream",
     "text": [
      "5\n"
     ]
    }
   ],
   "source": [
    "r = {'cookies': {'auth_key': '123'},\n",
    "     'body': 'hello'\n",
    "    }\n",
    "print(SecureTextHandler(r).process())"
   ]
  },
  {
   "cell_type": "code",
   "execution_count": 5,
   "metadata": {},
   "outputs": [
    {
     "name": "stdout",
     "output_type": "stream",
     "text": [
      "None\n"
     ]
    }
   ],
   "source": [
    "r = {'cookies': {},\n",
    "     'body': 'hello'\n",
    "    }\n",
    "print(SecureTextHandler(r).process())"
   ]
  }
 ],
 "metadata": {
  "kernelspec": {
   "display_name": "jira_py39",
   "language": "python",
   "name": "jira_py39"
  },
  "language_info": {
   "codemirror_mode": {
    "name": "ipython",
    "version": 3
   },
   "file_extension": ".py",
   "mimetype": "text/x-python",
   "name": "python",
   "nbconvert_exporter": "python",
   "pygments_lexer": "ipython3",
   "version": "3.9.9"
  }
 },
 "nbformat": 4,
 "nbformat_minor": 2
}
