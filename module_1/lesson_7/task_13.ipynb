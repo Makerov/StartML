{
 "cells": [
  {
   "cell_type": "markdown",
   "metadata": {},
   "source": [
    "# \\> Множественное наследование (2/3)\n",
    "Используя миксины из прошлого пункта, напишите класс `JsonHandler`, который будет наследоваться от классов `ParsesBody` и `ParsesHeaders` , иметь метод `process()` и конструктор, принимающий аргумент `request` и сохраняющий в `self.request`. В этом задании нужно использовать библиотеку `json`.\n",
    "\n",
    "Метод `process()` должен работать следующим образом:\n",
    "\n",
    "1. Если `need_json()` дает `False`, то возвращать `None`\n",
    "2. Иначе получать тело через `body()`, пытаться считать его как `json.loads(...)` и возвращать число ключей в словаре. Если считать не удалось, то вернуть `None`.\n",
    "\n",
    "Отправьте реализацию класса `JsonHandler` в LMS. Классы `ParsesBody` и `ParsesHeaders` отправлять не нужно.\n",
    "\n",
    "Обратите внимание, что с помощью миксин функциональность проверки headers и получения body была вынесена за `JsonHandler` - наш класс сосредоточился именно на обработке.\n",
    "```python\n",
    "# Пример использования\n",
    "r = {'body': '{\"a\": 123, \"b\": 1234}',\n",
    "     'headers': {'content-type': 'application/json'}\n",
    "    }\n",
    "print(JsonHandler(r).process())\n",
    "```"
   ]
  },
  {
   "cell_type": "code",
   "execution_count": 11,
   "metadata": {},
   "outputs": [],
   "source": [
    "import json\n",
    "\n",
    "class ParsesCookies:\n",
    "    def cookies(self):\n",
    "        return self.request.get('cookies')\n",
    "    \n",
    "    def is_authed(self):\n",
    "        return 'auth_key' in self.request['cookies'].keys()\n",
    "\n",
    "class ParsesBody:\n",
    "    def body(self):\n",
    "        return self.request.get('body')\n",
    "\n",
    "class ParsesHeaders:\n",
    "    def headers(self):\n",
    "        return self.request.get('headers')\n",
    "    \n",
    "    def need_json(self):\n",
    "        if self.request.get('headers').get('content-type') == 'application/json':\n",
    "            return True\n",
    "        else:\n",
    "            return False\n",
    "\n",
    "class JsonHandler(ParsesBody, ParsesHeaders):\n",
    "    def __init__(self, request):\n",
    "        if isinstance(request, dict):\n",
    "            self.request = request\n",
    "    \n",
    "    def process(self):\n",
    "        if self.need_json() == False:\n",
    "            return None\n",
    "        else:\n",
    "            try:\n",
    "                return len(json.loads(self.body()).keys())\n",
    "            except:\n",
    "                return None"
   ]
  },
  {
   "cell_type": "code",
   "execution_count": 12,
   "metadata": {},
   "outputs": [
    {
     "name": "stdout",
     "output_type": "stream",
     "text": [
      "2\n"
     ]
    }
   ],
   "source": [
    "r = {'body': '{\"a\": 123, \"b\": 1234}',\n",
    "     'headers': {'content-type': 'application/json'}\n",
    "    }\n",
    "print(JsonHandler(r).process())"
   ]
  }
 ],
 "metadata": {
  "kernelspec": {
   "display_name": "jira_py39",
   "language": "python",
   "name": "jira_py39"
  },
  "language_info": {
   "codemirror_mode": {
    "name": "ipython",
    "version": 3
   },
   "file_extension": ".py",
   "mimetype": "text/x-python",
   "name": "python",
   "nbconvert_exporter": "python",
   "pygments_lexer": "ipython3",
   "version": "3.9.9"
  }
 },
 "nbformat": 4,
 "nbformat_minor": 2
}
