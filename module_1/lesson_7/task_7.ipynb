{
 "cells": [
  {
   "cell_type": "markdown",
   "metadata": {},
   "source": [
    "# \\> Наследование: абстрактный класс (4/4)\n",
    "Попробуем собрать совершенно новый класс, используя `BaseFigure` в качестве шаблона.\n",
    "\n",
    "Напишите класс `Circle`, в котором в качестве `n_dots` будет `float('inf')`, area будет считаться как `3.14 * r^2`, а конструктор будет принимать только один аргумент - `r`. Метод `validate` не должен принимать никаких аргументов и не должен осуществлять никаких проверок.\n",
    "\n",
    "Отправьте в LMS реализацию этого класса. Отправлять реализацию `BaseFigure` не нужно."
   ]
  },
  {
   "cell_type": "code",
   "execution_count": 5,
   "metadata": {},
   "outputs": [],
   "source": [
    "class BaseFigure:\n",
    "    n_dots = None\n",
    "\n",
    "    def area(self):\n",
    "        raise NotImplementedError()\n",
    "\n",
    "    def validate(self):\n",
    "        raise NotImplementedError()\n",
    "    \n",
    "    def __init__(self):\n",
    "        self.validate()"
   ]
  },
  {
   "cell_type": "code",
   "execution_count": 10,
   "metadata": {},
   "outputs": [],
   "source": [
    "class Circle(BaseFigure):\n",
    "    n_dots = float('inf')\n",
    "\n",
    "    def __init__(self, r):\n",
    "        self.r = r\n",
    "        super().__init__()\n",
    "    \n",
    "    def area(self):\n",
    "        S = 3.14 * self.r**2\n",
    "        return S\n",
    "    \n",
    "    def validate(self):\n",
    "        pass"
   ]
  }
 ],
 "metadata": {
  "kernelspec": {
   "display_name": "jira_py39",
   "language": "python",
   "name": "jira_py39"
  },
  "language_info": {
   "codemirror_mode": {
    "name": "ipython",
    "version": 3
   },
   "file_extension": ".py",
   "mimetype": "text/x-python",
   "name": "python",
   "nbconvert_exporter": "python",
   "pygments_lexer": "ipython3",
   "version": "3.9.9"
  }
 },
 "nbformat": 4,
 "nbformat_minor": 2
}
