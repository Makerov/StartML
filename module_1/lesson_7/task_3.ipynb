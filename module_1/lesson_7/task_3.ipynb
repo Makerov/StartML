{
 "cells": [
  {
   "cell_type": "markdown",
   "metadata": {},
   "source": [
    "# \\> Простое наследование\n",
    "Создайте класс `Rectangle` (прямоугольник), который будет наследоваться от класса `Triangle`. Сделайте так, чтобы `area()`, конструктор и поле `n_dots` были верными. А именно:\n",
    "1. Конструктор должен принимать 2 стороны: `a`, `b`\n",
    "2. `area()` должен считать площадь как произведение смежных сторон: $S=ab$\n",
    "3. Неравенство треугольника не нужно проверять.\n",
    "4. `n_dots` должен быть объявлен на уровне класса и равняться 4.\n",
    "\n",
    "Отправьте реализацию класса `Rectangle` в LMS. Класс `Triangle` отправлять не нужно."
   ]
  },
  {
   "cell_type": "code",
   "execution_count": 1,
   "metadata": {},
   "outputs": [],
   "source": [
    "class Triangle:\n",
    "    n_dots = 3\n",
    "\n",
    "    def __init__(self, a, b, c):\n",
    "        self.a = a\n",
    "        self.b = b\n",
    "        self.c = c\n",
    "        if a >= b + c or b >= a + c or c >= b + a:\n",
    "            raise ValueError('triangle inequality does not hold')\n",
    "    \n",
    "    def area(self):\n",
    "        p = (self.a + self.b + self.c) * 0.5\n",
    "        S = (p * (p - self.a) * (p - self.b) * (p - self.c)) ** 0.5\n",
    "        return S"
   ]
  },
  {
   "cell_type": "code",
   "execution_count": 3,
   "metadata": {},
   "outputs": [],
   "source": [
    "class Rectangle(Triangle):\n",
    "    n_dots = 4\n",
    "\n",
    "    def __init__(self, a, b):\n",
    "        self.a = a\n",
    "        self.b = b\n",
    "    \n",
    "    def area(self):\n",
    "        S = self.a * self.b\n",
    "        return S"
   ]
  }
 ],
 "metadata": {
  "kernelspec": {
   "display_name": "jira_py39",
   "language": "python",
   "name": "jira_py39"
  },
  "language_info": {
   "codemirror_mode": {
    "name": "ipython",
    "version": 3
   },
   "file_extension": ".py",
   "mimetype": "text/x-python",
   "name": "python",
   "nbconvert_exporter": "python",
   "pygments_lexer": "ipython3",
   "version": "3.9.9"
  }
 },
 "nbformat": 4,
 "nbformat_minor": 2
}
