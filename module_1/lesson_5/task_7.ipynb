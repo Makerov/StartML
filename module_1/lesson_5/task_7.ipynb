{
 "cells": [
  {
   "cell_type": "markdown",
   "metadata": {},
   "source": [
    "Отберите заведения, которые находятся в городе Калифорния (`'California'`), штат Миссури.  Укажите индексы, под которыми полученные заведения расположены в датафрейме, через запятую и пробел в порядке возрастания. \n",
    "\n",
    "Например:\n",
    "```python\n",
    "11235, 12457, 77980, 88901\n",
    "```\n",
    "**NB!** В текущем и последующих заданиях вся работа происходит с изначальным датафреймом. Результат предыдущего задания не учитывается"
   ]
  },
  {
   "cell_type": "code",
   "execution_count": 1,
   "metadata": {},
   "outputs": [
    {
     "name": "stdout",
     "output_type": "stream",
     "text": [
      "<class 'pandas.core.frame.DataFrame'>\n",
      "RangeIndex: 77260 entries, 0 to 77259\n",
      "Data columns (total 16 columns):\n",
      " #   Column             Non-Null Count  Dtype  \n",
      "---  ------             --------------  -----  \n",
      " 0   id                 77260 non-null  object \n",
      " 1   address            77260 non-null  object \n",
      " 2   categories         77260 non-null  object \n",
      " 3   city               77260 non-null  object \n",
      " 4   cuisines           38384 non-null  object \n",
      " 5   dateAdded          77260 non-null  object \n",
      " 6   dateUpdated        77260 non-null  object \n",
      " 7   latitude           55636 non-null  float64\n",
      " 8   longitude          55636 non-null  float64\n",
      " 9   menus.category     3729 non-null   object \n",
      " 10  menus.currency     40511 non-null  object \n",
      " 11  menus.dateSeen     77260 non-null  object \n",
      " 12  menus.description  29323 non-null  object \n",
      " 13  menus.name         77260 non-null  object \n",
      " 14  name               77257 non-null  object \n",
      " 15  province           77257 non-null  object \n",
      "dtypes: float64(2), object(14)\n",
      "memory usage: 9.4+ MB\n"
     ]
    }
   ],
   "source": [
    "import pandas as pd\n",
    "\n",
    "df = pd.read_csv('data.csv')\n",
    "df.info()"
   ]
  },
  {
   "cell_type": "code",
   "execution_count": 3,
   "metadata": {},
   "outputs": [
    {
     "data": {
      "text/plain": [
       "Index([40483, 52930, 52931, 52932, 52933, 52934, 52935, 52936, 52937, 52938,\n",
       "       52939, 65070],\n",
       "      dtype='int64')"
      ]
     },
     "execution_count": 3,
     "metadata": {},
     "output_type": "execute_result"
    }
   ],
   "source": [
    "df[df['city'] == 'California'].index"
   ]
  }
 ],
 "metadata": {
  "kernelspec": {
   "display_name": "jira_py39",
   "language": "python",
   "name": "jira_py39"
  },
  "language_info": {
   "codemirror_mode": {
    "name": "ipython",
    "version": 3
   },
   "file_extension": ".py",
   "mimetype": "text/x-python",
   "name": "python",
   "nbconvert_exporter": "python",
   "pygments_lexer": "ipython3",
   "version": "3.9.9"
  }
 },
 "nbformat": 4,
 "nbformat_minor": 2
}
