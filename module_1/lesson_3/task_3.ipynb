{
 "cells": [
  {
   "cell_type": "markdown",
   "metadata": {},
   "source": [
    "# \\> Оптимизируем импорты\n",
    "В прошлом задании вы наверняка импортировали через `import datetime`, затем через точку обращались к нужным объектам. Это могло быть неудобно.\n",
    "\n",
    "Используя синтаксис `from ... import ...`, сделайте следующий код рабочим:\n",
    "```python\n",
    "datetime(month=3, day=8, year=2022) + timedelta(days=3, hours=5, minutes=6)\n",
    "```\n",
    "Обратите внимание на вызов `datetime` как функции внутри модуля.\n",
    "\n",
    "Запишите  результат в переменную `times`"
   ]
  },
  {
   "cell_type": "code",
   "execution_count": 2,
   "metadata": {},
   "outputs": [],
   "source": [
    "from datetime import datetime, timedelta\n",
    "times = datetime(month=3, day=8, year=2022) + timedelta(days=3, hours=5, minutes=6)"
   ]
  },
  {
   "cell_type": "code",
   "execution_count": 3,
   "metadata": {},
   "outputs": [
    {
     "data": {
      "text/plain": [
       "datetime.datetime(2022, 3, 11, 5, 6)"
      ]
     },
     "execution_count": 3,
     "metadata": {},
     "output_type": "execute_result"
    }
   ],
   "source": [
    "times"
   ]
  }
 ],
 "metadata": {
  "kernelspec": {
   "display_name": "jira_py39",
   "language": "python",
   "name": "jira_py39"
  },
  "language_info": {
   "codemirror_mode": {
    "name": "ipython",
    "version": 3
   },
   "file_extension": ".py",
   "mimetype": "text/x-python",
   "name": "python",
   "nbconvert_exporter": "python",
   "pygments_lexer": "ipython3",
   "version": "3.9.9"
  }
 },
 "nbformat": 4,
 "nbformat_minor": 2
}
