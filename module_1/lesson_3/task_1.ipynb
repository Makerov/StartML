{
 "cells": [
  {
   "cell_type": "markdown",
   "metadata": {},
   "source": [
    "# \\> Импорт встроенного: datetime\n",
    "Попробуем поработать с библиотекой `datetime` и ознакомиться с ее функционалом.\n",
    "\n",
    "Начнем с простого, для начала импортируйте библиотеку `datetime` (она встроена в python, поэтому устанавливать ее отдельно не нужно), затем создайте объект `date` из модуля `datetime`, передав на вход три аргумента `day=10`, `month=2`, `year=2022`. Запишите этот объект в переменную `launch_date`. Вспомните, что для создания объекта мы просто вызывали его тип как функцию, т.е. в духе `date(arg1, arg2)`.\n",
    "\n",
    "Напишите код, который сделает импорт и создаст эту переменную."
   ]
  },
  {
   "cell_type": "code",
   "execution_count": 3,
   "metadata": {},
   "outputs": [],
   "source": [
    "import datetime as dt\n",
    "launch_date = dt.date(year=2022, month=2, day=10)"
   ]
  }
 ],
 "metadata": {
  "kernelspec": {
   "display_name": "jira_py39",
   "language": "python",
   "name": "jira_py39"
  },
  "language_info": {
   "codemirror_mode": {
    "name": "ipython",
    "version": 3
   },
   "file_extension": ".py",
   "mimetype": "text/x-python",
   "name": "python",
   "nbconvert_exporter": "python",
   "pygments_lexer": "ipython3",
   "version": "3.9.9"
  }
 },
 "nbformat": 4,
 "nbformat_minor": 2
}
