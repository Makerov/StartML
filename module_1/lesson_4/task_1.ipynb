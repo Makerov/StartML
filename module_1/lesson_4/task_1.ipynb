{
 "cells": [
  {
   "cell_type": "markdown",
   "metadata": {},
   "source": [
    "# \\> В этом уроке\n",
    "Все задания этом уроке необходимо выполнять в том порядке, в котором они идут в LMS.\n",
    "\n",
    "В четвертом уроке задания будут разбиты на 4 блока:\n",
    "\n",
    "1. Markdown. Сначала мы научимся работать с Markdown, используя `jupyter notebook`.\n",
    "\n",
    "2. Ошибки в коде. Здесь мы поработаем с чужим кодом, отредактируем и запустим его.\n",
    "\n",
    "3. Numpy. Мы сравненим время работы цикла `for` и функции из библиотеки `numpy` для вычислении скалярного произведения векторов.\n",
    "\n",
    "4. Непонятная [*]. В заключение, мы столкнемся с зависающим кодом и применим наши знания о ядрах `jupyter` для решения проблемы.\n",
    "\n",
    "# \\> Создаем ноутбук в jupyter и учимся работать с Markdown\n",
    "Установите `jupyter` у себя на компьютере. Откройте его, затем создайте ноутбук.\n",
    "\n",
    "В ноутбуке создайте несколько ячеек: с markdown-разметкой и с кодом. В **markdown-ячейке** воспользуйтесь синтаксисом для полужирного текста, _курсива_ и `monospace`."
   ]
  },
  {
   "cell_type": "code",
   "execution_count": 1,
   "metadata": {},
   "outputs": [
    {
     "name": "stdout",
     "output_type": "stream",
     "text": [
      "task_1 done\n"
     ]
    }
   ],
   "source": [
    "test = \"task_1\"\n",
    "resolution = 'done'\n",
    "print(f\"{test} {resolution}\")"
   ]
  }
 ],
 "metadata": {
  "kernelspec": {
   "display_name": "jira_py39",
   "language": "python",
   "name": "jira_py39"
  },
  "language_info": {
   "codemirror_mode": {
    "name": "ipython",
    "version": 3
   },
   "file_extension": ".py",
   "mimetype": "text/x-python",
   "name": "python",
   "nbconvert_exporter": "python",
   "pygments_lexer": "ipython3",
   "version": "3.9.9"
  }
 },
 "nbformat": 4,
 "nbformat_minor": 2
}
