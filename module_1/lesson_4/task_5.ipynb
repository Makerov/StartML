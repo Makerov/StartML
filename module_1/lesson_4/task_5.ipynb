{
 "cells": [
  {
   "cell_type": "markdown",
   "metadata": {},
   "source": [
    "# \\> Применяем магические команды jupyter\n",
    "Реализуйте скалярное произведение двух векторов размера `1e5` через цикл `for` в ноутбуке и замерьте скорость выполнения кода с использованием магической команды `%%timeit`. Используйте для быстрой генерации вектора такой трюк: `vec1 = list(range(int(1e5)))`.\n",
    "\n",
    "Рекомендуем скалярное произведение обернуть в функцию.\n",
    "\n",
    "Сколько секунд отрабатывала ваша функция?\n",
    "\n",
    "**NB!** Убедитесь, что замеряете только время выполнения скалярного произведения и ничего больше."
   ]
  },
  {
   "cell_type": "code",
   "execution_count": 1,
   "metadata": {},
   "outputs": [],
   "source": [
    "import numpy as np"
   ]
  },
  {
   "cell_type": "code",
   "execution_count": 5,
   "metadata": {},
   "outputs": [],
   "source": [
    "def scalar_product(vec1, vec2):\n",
    "    result = np.dot(vec1, vec2)\n",
    "    return result"
   ]
  },
  {
   "cell_type": "code",
   "execution_count": 3,
   "metadata": {},
   "outputs": [
    {
     "name": "stdout",
     "output_type": "stream",
     "text": [
      "CPU times: user 9.61 ms, sys: 489 µs, total: 10.1 ms\n",
      "Wall time: 10 ms\n"
     ]
    },
    {
     "data": {
      "text/plain": [
       "np.int64(333328333350000)"
      ]
     },
     "execution_count": 3,
     "metadata": {},
     "output_type": "execute_result"
    }
   ],
   "source": [
    "vec1 = list(range(int(1e5)))\n",
    "vec2 = list(range(int(1e5)))\n",
    "%time np.dot(vec1, vec2)"
   ]
  },
  {
   "cell_type": "code",
   "execution_count": 8,
   "metadata": {},
   "outputs": [
    {
     "name": "stdout",
     "output_type": "stream",
     "text": [
      "CPU times: user 8.54 ms, sys: 149 µs, total: 8.69 ms\n",
      "Wall time: 8.7 ms\n"
     ]
    }
   ],
   "source": [
    "%%time\n",
    "result = scalar_product(vec1, vec2)"
   ]
  },
  {
   "cell_type": "code",
   "execution_count": 10,
   "metadata": {},
   "outputs": [
    {
     "data": {
      "text/plain": [
       "'3.333283e+14'"
      ]
     },
     "execution_count": 10,
     "metadata": {},
     "output_type": "execute_result"
    }
   ],
   "source": [
    "scientific_notation=\"{:e}\".format(result)\n",
    "scientific_notation"
   ]
  }
 ],
 "metadata": {
  "kernelspec": {
   "display_name": "jira_py39",
   "language": "python",
   "name": "jira_py39"
  },
  "language_info": {
   "codemirror_mode": {
    "name": "ipython",
    "version": 3
   },
   "file_extension": ".py",
   "mimetype": "text/x-python",
   "name": "python",
   "nbconvert_exporter": "python",
   "pygments_lexer": "ipython3",
   "version": "3.9.9"
  }
 },
 "nbformat": 4,
 "nbformat_minor": 2
}
