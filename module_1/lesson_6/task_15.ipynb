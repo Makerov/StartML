{
 "cells": [
  {
   "cell_type": "markdown",
   "metadata": {},
   "source": [
    "# \\> Join (1/2)\n",
    "Отберите `post_id`, `time`, `age` и `os` пользователя для всех лайков пользователей из Омска. Отсортируйте результаты по убыванию времени действия и загрузите в LMS первые 100 значений в формате CSV (сепаратор \"запятая\", колонки с теми же названиями, что и в задании)."
   ]
  },
  {
   "cell_type": "code",
   "execution_count": 1,
   "metadata": {},
   "outputs": [
    {
     "name": "stdout",
     "output_type": "stream",
     "text": [
      "<class 'pandas.core.frame.DataFrame'>\n",
      "RangeIndex: 100 entries, 0 to 99\n",
      "Data columns (total 4 columns):\n",
      " #   Column   Non-Null Count  Dtype         \n",
      "---  ------   --------------  -----         \n",
      " 0   post_id  100 non-null    int64         \n",
      " 1   time     100 non-null    datetime64[ns]\n",
      " 2   age      100 non-null    int64         \n",
      " 3   os       100 non-null    object        \n",
      "dtypes: datetime64[ns](1), int64(2), object(1)\n",
      "memory usage: 3.2+ KB\n"
     ]
    },
    {
     "data": {
      "text/html": [
       "<div>\n",
       "<style scoped>\n",
       "    .dataframe tbody tr th:only-of-type {\n",
       "        vertical-align: middle;\n",
       "    }\n",
       "\n",
       "    .dataframe tbody tr th {\n",
       "        vertical-align: top;\n",
       "    }\n",
       "\n",
       "    .dataframe thead th {\n",
       "        text-align: right;\n",
       "    }\n",
       "</style>\n",
       "<table border=\"1\" class=\"dataframe\">\n",
       "  <thead>\n",
       "    <tr style=\"text-align: right;\">\n",
       "      <th></th>\n",
       "      <th>post_id</th>\n",
       "      <th>time</th>\n",
       "      <th>age</th>\n",
       "      <th>os</th>\n",
       "    </tr>\n",
       "  </thead>\n",
       "  <tbody>\n",
       "    <tr>\n",
       "      <th>0</th>\n",
       "      <td>7159</td>\n",
       "      <td>2022-01-26 23:59:54</td>\n",
       "      <td>17</td>\n",
       "      <td>Android</td>\n",
       "    </tr>\n",
       "    <tr>\n",
       "      <th>1</th>\n",
       "      <td>7184</td>\n",
       "      <td>2022-01-26 23:56:30</td>\n",
       "      <td>17</td>\n",
       "      <td>Android</td>\n",
       "    </tr>\n",
       "    <tr>\n",
       "      <th>2</th>\n",
       "      <td>7265</td>\n",
       "      <td>2022-01-26 23:56:03</td>\n",
       "      <td>17</td>\n",
       "      <td>Android</td>\n",
       "    </tr>\n",
       "    <tr>\n",
       "      <th>3</th>\n",
       "      <td>7256</td>\n",
       "      <td>2022-01-26 23:55:24</td>\n",
       "      <td>17</td>\n",
       "      <td>Android</td>\n",
       "    </tr>\n",
       "    <tr>\n",
       "      <th>4</th>\n",
       "      <td>7080</td>\n",
       "      <td>2022-01-26 23:55:12</td>\n",
       "      <td>17</td>\n",
       "      <td>Android</td>\n",
       "    </tr>\n",
       "  </tbody>\n",
       "</table>\n",
       "</div>"
      ],
      "text/plain": [
       "   post_id                time  age       os\n",
       "0     7159 2022-01-26 23:59:54   17  Android\n",
       "1     7184 2022-01-26 23:56:30   17  Android\n",
       "2     7265 2022-01-26 23:56:03   17  Android\n",
       "3     7256 2022-01-26 23:55:24   17  Android\n",
       "4     7080 2022-01-26 23:55:12   17  Android"
      ]
     },
     "execution_count": 1,
     "metadata": {},
     "output_type": "execute_result"
    }
   ],
   "source": [
    "import pandas as pd\n",
    "from db_con import connection\n",
    "\n",
    "sql_query = \"\"\"\n",
    "    select\n",
    "        p.id as post_id\n",
    "        , fa.time\n",
    "        , u.age\n",
    "        , u.os\n",
    "    from \"user\" as u\n",
    "        left join feed_action as fa \n",
    "            on u.id = fa.user_id\n",
    "        left join post as p \n",
    "            on fa.post_id = p.id \n",
    "    where True\n",
    "        and u.city = 'Omsk'\n",
    "        and fa.action = 'like'\n",
    "    order by fa.time desc\n",
    "    limit 100\n",
    "\"\"\"\n",
    "df = pd.read_sql(\n",
    "    sql_query,\n",
    "    con=connection\n",
    ")\n",
    "df.info()\n",
    "df.head()"
   ]
  },
  {
   "cell_type": "code",
   "execution_count": 3,
   "metadata": {},
   "outputs": [],
   "source": [
    "df.to_csv('task_15_result.csv', sep=',', index=False)"
   ]
  }
 ],
 "metadata": {
  "kernelspec": {
   "display_name": "jira_py39",
   "language": "python",
   "name": "jira_py39"
  },
  "language_info": {
   "codemirror_mode": {
    "name": "ipython",
    "version": 3
   },
   "file_extension": ".py",
   "mimetype": "text/x-python",
   "name": "python",
   "nbconvert_exporter": "python",
   "pygments_lexer": "ipython3",
   "version": "3.9.9"
  }
 },
 "nbformat": 4,
 "nbformat_minor": 2
}
