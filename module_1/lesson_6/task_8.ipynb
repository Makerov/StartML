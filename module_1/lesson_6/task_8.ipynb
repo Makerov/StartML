{
 "cells": [
  {
   "cell_type": "markdown",
   "metadata": {},
   "source": [
    "# \\> Группировка (2/6)\n",
    "Сгруппируйте пользователей сначала по экспериментальной группе, а затем по операционной системе. В каждой группе подсчитайте количество пользователей, максимальный и минимальный возраст.\n",
    "\n",
    "Сохраните результаты в файл CSV с колонками в следующем порядке: `exp_group`, `os`, `total_users`, `max_age`, `min_age` (обратите внимание на название последних трех колонок!), используя запятую в качестве сепаратора, и отправьте файл в LMS."
   ]
  },
  {
   "cell_type": "code",
   "execution_count": 1,
   "metadata": {},
   "outputs": [
    {
     "name": "stdout",
     "output_type": "stream",
     "text": [
      "<class 'pandas.core.frame.DataFrame'>\n",
      "RangeIndex: 10 entries, 0 to 9\n",
      "Data columns (total 5 columns):\n",
      " #   Column       Non-Null Count  Dtype \n",
      "---  ------       --------------  ----- \n",
      " 0   exp_group    10 non-null     int64 \n",
      " 1   os           10 non-null     object\n",
      " 2   total_users  10 non-null     int64 \n",
      " 3   max_age      10 non-null     int64 \n",
      " 4   min_age      10 non-null     int64 \n",
      "dtypes: int64(4), object(1)\n",
      "memory usage: 528.0+ bytes\n"
     ]
    },
    {
     "data": {
      "text/html": [
       "<div>\n",
       "<style scoped>\n",
       "    .dataframe tbody tr th:only-of-type {\n",
       "        vertical-align: middle;\n",
       "    }\n",
       "\n",
       "    .dataframe tbody tr th {\n",
       "        vertical-align: top;\n",
       "    }\n",
       "\n",
       "    .dataframe thead th {\n",
       "        text-align: right;\n",
       "    }\n",
       "</style>\n",
       "<table border=\"1\" class=\"dataframe\">\n",
       "  <thead>\n",
       "    <tr style=\"text-align: right;\">\n",
       "      <th></th>\n",
       "      <th>exp_group</th>\n",
       "      <th>os</th>\n",
       "      <th>total_users</th>\n",
       "      <th>max_age</th>\n",
       "      <th>min_age</th>\n",
       "    </tr>\n",
       "  </thead>\n",
       "  <tbody>\n",
       "    <tr>\n",
       "      <th>0</th>\n",
       "      <td>0</td>\n",
       "      <td>Android</td>\n",
       "      <td>21234</td>\n",
       "      <td>95</td>\n",
       "      <td>14</td>\n",
       "    </tr>\n",
       "    <tr>\n",
       "      <th>1</th>\n",
       "      <td>0</td>\n",
       "      <td>iOS</td>\n",
       "      <td>11489</td>\n",
       "      <td>79</td>\n",
       "      <td>14</td>\n",
       "    </tr>\n",
       "    <tr>\n",
       "      <th>2</th>\n",
       "      <td>1</td>\n",
       "      <td>Android</td>\n",
       "      <td>21232</td>\n",
       "      <td>92</td>\n",
       "      <td>14</td>\n",
       "    </tr>\n",
       "    <tr>\n",
       "      <th>3</th>\n",
       "      <td>1</td>\n",
       "      <td>iOS</td>\n",
       "      <td>11406</td>\n",
       "      <td>87</td>\n",
       "      <td>14</td>\n",
       "    </tr>\n",
       "    <tr>\n",
       "      <th>4</th>\n",
       "      <td>2</td>\n",
       "      <td>Android</td>\n",
       "      <td>21102</td>\n",
       "      <td>78</td>\n",
       "      <td>14</td>\n",
       "    </tr>\n",
       "  </tbody>\n",
       "</table>\n",
       "</div>"
      ],
      "text/plain": [
       "   exp_group       os  total_users  max_age  min_age\n",
       "0          0  Android        21234       95       14\n",
       "1          0      iOS        11489       79       14\n",
       "2          1  Android        21232       92       14\n",
       "3          1      iOS        11406       87       14\n",
       "4          2  Android        21102       78       14"
      ]
     },
     "execution_count": 1,
     "metadata": {},
     "output_type": "execute_result"
    }
   ],
   "source": [
    "import pandas as pd\n",
    "from db_con import connection\n",
    "\n",
    "sql_query = \"\"\"\n",
    "    select\n",
    "        exp_group\n",
    "        , os\n",
    "        , count(id) as total_users\n",
    "        , max(age) as max_age\n",
    "        , min(age) as min_age\n",
    "    from \"user\"\n",
    "    group by \n",
    "        exp_group\n",
    "        , os\n",
    "\"\"\"\n",
    "df = pd.read_sql(\n",
    "    sql_query,\n",
    "    con=connection\n",
    ")\n",
    "df.info()\n",
    "df.head()"
   ]
  },
  {
   "cell_type": "code",
   "execution_count": 2,
   "metadata": {},
   "outputs": [],
   "source": [
    "df.to_csv('task_8_result.csv', index=False)"
   ]
  }
 ],
 "metadata": {
  "kernelspec": {
   "display_name": "jira_py39",
   "language": "python",
   "name": "jira_py39"
  },
  "language_info": {
   "codemirror_mode": {
    "name": "ipython",
    "version": 3
   },
   "file_extension": ".py",
   "mimetype": "text/x-python",
   "name": "python",
   "nbconvert_exporter": "python",
   "pygments_lexer": "ipython3",
   "version": "3.9.9"
  }
 },
 "nbformat": 4,
 "nbformat_minor": 2
}
