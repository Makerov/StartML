{
 "cells": [
  {
   "cell_type": "markdown",
   "metadata": {},
   "source": [
    "# \\> Фильтры (2/2)\n",
    "Отберите пользователей, которые не из России и при этом либо их экспериментальная группа не `0` и не `3` или их город – Минск.\n",
    "\n",
    "Напишите через пробел первые 4 ID в такой выдаче."
   ]
  },
  {
   "cell_type": "code",
   "execution_count": 3,
   "metadata": {},
   "outputs": [
    {
     "name": "stdout",
     "output_type": "stream",
     "text": [
      "<class 'pandas.core.frame.DataFrame'>\n",
      "RangeIndex: 12476 entries, 0 to 12475\n",
      "Data columns (total 4 columns):\n",
      " #   Column     Non-Null Count  Dtype \n",
      "---  ------     --------------  ----- \n",
      " 0   id         12476 non-null  int64 \n",
      " 1   country    12476 non-null  object\n",
      " 2   exp_group  12476 non-null  int64 \n",
      " 3   city       12476 non-null  object\n",
      "dtypes: int64(2), object(2)\n",
      "memory usage: 390.0+ KB\n"
     ]
    },
    {
     "data": {
      "text/html": [
       "<div>\n",
       "<style scoped>\n",
       "    .dataframe tbody tr th:only-of-type {\n",
       "        vertical-align: middle;\n",
       "    }\n",
       "\n",
       "    .dataframe tbody tr th {\n",
       "        vertical-align: top;\n",
       "    }\n",
       "\n",
       "    .dataframe thead th {\n",
       "        text-align: right;\n",
       "    }\n",
       "</style>\n",
       "<table border=\"1\" class=\"dataframe\">\n",
       "  <thead>\n",
       "    <tr style=\"text-align: right;\">\n",
       "      <th></th>\n",
       "      <th>id</th>\n",
       "      <th>country</th>\n",
       "      <th>exp_group</th>\n",
       "      <th>city</th>\n",
       "    </tr>\n",
       "  </thead>\n",
       "  <tbody>\n",
       "    <tr>\n",
       "      <th>0</th>\n",
       "      <td>211</td>\n",
       "      <td>Belarus</td>\n",
       "      <td>0</td>\n",
       "      <td>Minsk</td>\n",
       "    </tr>\n",
       "    <tr>\n",
       "      <th>1</th>\n",
       "      <td>213</td>\n",
       "      <td>Ukraine</td>\n",
       "      <td>2</td>\n",
       "      <td>Kamianske</td>\n",
       "    </tr>\n",
       "    <tr>\n",
       "      <th>2</th>\n",
       "      <td>216</td>\n",
       "      <td>Ukraine</td>\n",
       "      <td>1</td>\n",
       "      <td>Lviv</td>\n",
       "    </tr>\n",
       "    <tr>\n",
       "      <th>3</th>\n",
       "      <td>218</td>\n",
       "      <td>Belarus</td>\n",
       "      <td>2</td>\n",
       "      <td>Minsk</td>\n",
       "    </tr>\n",
       "    <tr>\n",
       "      <th>4</th>\n",
       "      <td>228</td>\n",
       "      <td>Azerbaijan</td>\n",
       "      <td>2</td>\n",
       "      <td>Baku</td>\n",
       "    </tr>\n",
       "  </tbody>\n",
       "</table>\n",
       "</div>"
      ],
      "text/plain": [
       "    id     country  exp_group       city\n",
       "0  211     Belarus          0      Minsk\n",
       "1  213     Ukraine          2  Kamianske\n",
       "2  216     Ukraine          1       Lviv\n",
       "3  218     Belarus          2      Minsk\n",
       "4  228  Azerbaijan          2       Baku"
      ]
     },
     "execution_count": 3,
     "metadata": {},
     "output_type": "execute_result"
    }
   ],
   "source": [
    "import pandas as pd\n",
    "from db_con import connection\n",
    "\n",
    "sql_query = \"\"\"\n",
    "    select\n",
    "        id\n",
    "        , country\n",
    "        , exp_group\n",
    "        , city\n",
    "    from \"user\"\n",
    "    where True\n",
    "        and country != 'Russia'\n",
    "        and exp_group != 0\n",
    "        and exp_group != 3\n",
    "        or city = 'Minsk'\n",
    "\"\"\"\n",
    "df = pd.read_sql(\n",
    "    sql_query,\n",
    "    con=connection\n",
    ")\n",
    "df.info()\n",
    "df.head()"
   ]
  },
  {
   "cell_type": "code",
   "execution_count": 6,
   "metadata": {},
   "outputs": [
    {
     "data": {
      "text/plain": [
       "0    211\n",
       "1    213\n",
       "2    216\n",
       "3    218\n",
       "Name: id, dtype: int64"
      ]
     },
     "execution_count": 6,
     "metadata": {},
     "output_type": "execute_result"
    }
   ],
   "source": [
    "df.iloc[0:4]['id']"
   ]
  }
 ],
 "metadata": {
  "kernelspec": {
   "display_name": "jira_py39",
   "language": "python",
   "name": "jira_py39"
  },
  "language_info": {
   "codemirror_mode": {
    "name": "ipython",
    "version": 3
   },
   "file_extension": ".py",
   "mimetype": "text/x-python",
   "name": "python",
   "nbconvert_exporter": "python",
   "pygments_lexer": "ipython3",
   "version": "3.9.9"
  }
 },
 "nbformat": 4,
 "nbformat_minor": 2
}
